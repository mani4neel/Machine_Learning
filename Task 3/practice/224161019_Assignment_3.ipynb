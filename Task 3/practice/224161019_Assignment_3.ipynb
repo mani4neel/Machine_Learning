{
 "cells": [
  {
   "cell_type": "markdown",
   "metadata": {
    "id": "qGN8c0DZRznp"
   },
   "source": [
    "ML Lab3 : Neelmani- 224161019"
   ]
  },
  {
   "cell_type": "markdown",
   "metadata": {
    "id": "5wQRKxZkR6wi"
   },
   "source": [
    "Question 1"
   ]
  },
  {
   "cell_type": "code",
   "execution_count": 3,
   "metadata": {
    "colab": {
     "base_uri": "https://localhost:8080/",
     "height": 265
    },
    "id": "79HQKeTwR9Ts",
    "outputId": "2e14604c-90df-4b43-a570-53c09f43d4f4"
   },
   "outputs": [
    {
     "data": {
      "image/png": "[encoded data removed]",
      "text/plain": [
       "<Figure size 432x288 with 1 Axes>"
      ]
     },
     "metadata": {
      "needs_background": "light"
     },
     "output_type": "display_data"
    }
   ],
   "source": [
    "import numpy as np\n",
    "import matplotlib.pyplot as plt\n",
    "\n",
    "a = 2\n",
    "b = 3\n",
    "x_range = np.linspace(-10, 10, 100)\n",
    "y = a * x_range + b\n",
    "plt.plot(x_range, y, color='black', label='y = 2x + 3')\n",
    "sigma = 1\n",
    "noise = sigma * np.random.normal(0, 1, len(x_range))\n",
    "y_noisy = y + noise\n",
    "\n",
    "plt.scatter(x_range, y_noisy, color='red', label='Noisy Points')\n",
    "plt.legend()\n",
    "plt.show()"
   ]
  },
  {
   "cell_type": "markdown",
   "metadata": {
    "id": "bvyuSnpYSyrQ"
   },
   "source": [
    "Question 2"
   ]
  },
  {
   "cell_type": "code",
   "execution_count": 15,
   "metadata": {
    "colab": {
     "base_uri": "https://localhost:8080/",
     "height": 248
    },
    "id": "As7IdkfDStv6",
    "outputId": "a2049548-dce4-45bb-b38e-57b45969c783"
   },
   "outputs": [
    {
     "ename": "MemoryError",
     "evalue": "Unable to allocate 11.9 GiB for an array with shape (40000, 40000) and data type float64",
     "output_type": "error",
     "traceback": [
      "\u001b[1;31m---------------------------------------------------------------------------\u001b[0m",
      "\u001b[1;31mMemoryError\u001b[0m                               Traceback (most recent call last)",
      "Input \u001b[1;32mIn [15]\u001b[0m, in \u001b[0;36m<cell line: 8>\u001b[1;34m()\u001b[0m\n\u001b[0;32m      6\u001b[0m b \u001b[38;5;241m=\u001b[39m np\u001b[38;5;241m.\u001b[39marange(\u001b[38;5;241m-\u001b[39m\u001b[38;5;241m10\u001b[39m, \u001b[38;5;241m10\u001b[39m, \u001b[38;5;241m0.1\u001b[39m)\n\u001b[0;32m      7\u001b[0m a, b \u001b[38;5;241m=\u001b[39m np\u001b[38;5;241m.\u001b[39mmeshgrid(a, b)\n\u001b[1;32m----> 8\u001b[0m \u001b[38;5;28mprint\u001b[39m(\u001b[43mnp\u001b[49m\u001b[38;5;241;43m.\u001b[39;49m\u001b[43mmeshgrid\u001b[49m\u001b[43m(\u001b[49m\u001b[43ma\u001b[49m\u001b[43m,\u001b[49m\u001b[43m \u001b[49m\u001b[43mb\u001b[49m\u001b[43m)\u001b[49m)\n\u001b[0;32m      9\u001b[0m x_range \u001b[38;5;241m=\u001b[39m np\u001b[38;5;241m.\u001b[39mlinspace(\u001b[38;5;241m-\u001b[39m\u001b[38;5;241m10\u001b[39m, \u001b[38;5;241m10\u001b[39m, \u001b[38;5;241m100\u001b[39m)\n\u001b[0;32m     10\u001b[0m y \u001b[38;5;241m=\u001b[39m \u001b[38;5;241m2\u001b[39m \u001b[38;5;241m*\u001b[39m x_range \u001b[38;5;241m+\u001b[39m \u001b[38;5;241m3\u001b[39m\n",
      "File \u001b[1;32m<__array_function__ internals>:5\u001b[0m, in \u001b[0;36mmeshgrid\u001b[1;34m(*args, **kwargs)\u001b[0m\n",
      "File \u001b[1;32m~\\anaconda3\\lib\\site-packages\\numpy\\lib\\function_base.py:4373\u001b[0m, in \u001b[0;36mmeshgrid\u001b[1;34m(copy, sparse, indexing, *xi)\u001b[0m\n\u001b[0;32m   4370\u001b[0m     output \u001b[38;5;241m=\u001b[39m np\u001b[38;5;241m.\u001b[39mbroadcast_arrays(\u001b[38;5;241m*\u001b[39moutput, subok\u001b[38;5;241m=\u001b[39m\u001b[38;5;28;01mTrue\u001b[39;00m)\n\u001b[0;32m   4372\u001b[0m \u001b[38;5;28;01mif\u001b[39;00m copy:\n\u001b[1;32m-> 4373\u001b[0m     output \u001b[38;5;241m=\u001b[39m [x\u001b[38;5;241m.\u001b[39mcopy() \u001b[38;5;28;01mfor\u001b[39;00m x \u001b[38;5;129;01min\u001b[39;00m output]\n\u001b[0;32m   4375\u001b[0m \u001b[38;5;28;01mreturn\u001b[39;00m output\n",
      "File \u001b[1;32m~\\anaconda3\\lib\\site-packages\\numpy\\lib\\function_base.py:4373\u001b[0m, in \u001b[0;36m<listcomp>\u001b[1;34m(.0)\u001b[0m\n\u001b[0;32m   4370\u001b[0m     output \u001b[38;5;241m=\u001b[39m np\u001b[38;5;241m.\u001b[39mbroadcast_arrays(\u001b[38;5;241m*\u001b[39moutput, subok\u001b[38;5;241m=\u001b[39m\u001b[38;5;28;01mTrue\u001b[39;00m)\n\u001b[0;32m   4372\u001b[0m \u001b[38;5;28;01mif\u001b[39;00m copy:\n\u001b[1;32m-> 4373\u001b[0m     output \u001b[38;5;241m=\u001b[39m [\u001b[43mx\u001b[49m\u001b[38;5;241;43m.\u001b[39;49m\u001b[43mcopy\u001b[49m\u001b[43m(\u001b[49m\u001b[43m)\u001b[49m \u001b[38;5;28;01mfor\u001b[39;00m x \u001b[38;5;129;01min\u001b[39;00m output]\n\u001b[0;32m   4375\u001b[0m \u001b[38;5;28;01mreturn\u001b[39;00m output\n",
      "\u001b[1;31mMemoryError\u001b[0m: Unable to allocate 11.9 GiB for an array with shape (40000, 40000) and data type float64"
     ]
    }
   ],
   "source": [
    "import numpy as np\n",
    "import matplotlib.pyplot as plt\n",
    "from mpl_toolkits.mplot3d import Axes3D\n",
    "\n",
    "a = np.arange(-10, 10, 0.1)\n",
    "b = np.arange(-10, 10, 0.1)\n",
    "a, b = np.meshgrid(a, b)\n",
    "print(np.meshgrid(a, b))\n",
    "x_range = np.linspace(-10, 10, 100)\n",
    "y = 2 * x_range + 3\n",
    "sigma = 1\n",
    "noise = sigma * np.random.normal(0, 1, len(x_range))\n",
    "y_noisy = y + noise\n",
    "e = np.zeros((len(a), len(b), len(x_range)))\n",
    "for i in range(len(a)):\n",
    "    for j in range(len(b)):\n",
    "        y_pred = a[i, j] * x_range + b[i, j]\n",
    "        e[i, j, :] = y_noisy - y_pred\n",
    "\n",
    "E = np.mean(e**2, axis=-1)\n",
    "fig = plt.figure()\n",
    "ax = fig.add_subplot(111, projection='3d')\n",
    "ax.plot_surface(a, b, E)\n",
    "ax.set_xlabel('a')\n",
    "ax.set_ylabel('b')\n",
    "ax.set_zlabel('E')\n",
    "plt.show()"
   ]
  },
  {
   "cell_type": "markdown",
   "metadata": {
    "id": "ylty5EwyS5KD"
   },
   "source": [
    "Question 3"
   ]
  },
  {
   "cell_type": "markdown",
   "metadata": {
    "id": "cKzOuQv-lZwX"
   },
   "source": [
    "for sigma=1"
   ]
  },
  {
   "cell_type": "code",
   "execution_count": 5,
   "metadata": {
    "colab": {
     "base_uri": "https://localhost:8080/"
    },
    "id": "LB6vjbHaS6oG",
    "outputId": "1790f4ad-9410-47a9-ec6f-6bf59fb16850"
   },
   "outputs": [
    {
     "name": "stdout",
     "output_type": "stream",
     "text": [
      "Estimated value of a:  1.9935103351197276\n",
      "Estimated value of b:  3.0253264342972246\n",
      "MSE:  0.9085954248691883\n",
      "R^2:  0.9938148193773142\n"
     ]
    }
   ],
   "source": [
    "import numpy as np\n",
    "import pandas as pd\n",
    "from sklearn.model_selection import train_test_split\n",
    "from sklearn.metrics import mean_squared_error, r2_score\n",
    "\n",
    "x = np.linspace(-10, 10, 200)\n",
    "sigma = 1\n",
    "noise = sigma * np.random.normal(0, 1, len(x))\n",
    "y = 2 * x + 3 + noise\n",
    "data = pd.DataFrame({'x': x, 'y': y})\n",
    "\n",
    "train_data, test_data, train_target, test_target = train_test_split(data['x'], data['y'], train_size=100, test_size=100)\n",
    "X_train = train_data.values.reshape(-1, 1)\n",
    "X_train = np.hstack([np.ones((100, 1)), X_train])\n",
    "A1 = np.dot(((X_train).T),X_train)\n",
    "A2 = np.linalg.inv(A1) \n",
    "A3 = np.dot(((X_train).T),train_target)\n",
    "P = np.dot(A2,A3)\n",
    "b,a = P\n",
    "print(\"Estimated value of a: \",a)\n",
    "print(\"Estimated value of b: \",b)\n",
    "y_pred = a*test_data + b\n",
    "y_test=test_target\n",
    "\n",
    "mse = mean_squared_error(y_test, y_pred)\n",
    "r2 = r2_score(y_test, y_pred)\n",
    "print(\"MSE: \", mse)\n",
    "print(\"R^2: \", r2)"
   ]
  },
  {
   "cell_type": "markdown",
   "metadata": {
    "id": "24nCoPsJlwjR"
   },
   "source": [
    "for sigma=3"
   ]
  },
  {
   "cell_type": "code",
   "execution_count": 6,
   "metadata": {
    "colab": {
     "base_uri": "https://localhost:8080/"
    },
    "id": "i_d2SOyCl01S",
    "outputId": "772106b6-d472-492e-f1b2-f326cc58631a"
   },
   "outputs": [
    {
     "name": "stdout",
     "output_type": "stream",
     "text": [
      "Estimated value of a:  2.0814840252979017\n",
      "Estimated value of b:  3.11341033482657\n",
      "MSE:  6.932372947119379\n",
      "R^2:  0.9558793190404509\n"
     ]
    }
   ],
   "source": [
    "x = np.linspace(-10, 10, 200)\n",
    "sigma = 3\n",
    "noise = sigma * np.random.normal(0, 1, len(x))\n",
    "y = 2 * x + 3 + noise\n",
    "data = pd.DataFrame({'x': x, 'y': y})\n",
    "\n",
    "train_data, test_data, train_target, test_target = train_test_split(data['x'], data['y'], train_size=100, test_size=100)\n",
    "X_train = train_data.values.reshape(-1, 1)\n",
    "X_train = np.hstack([np.ones((100, 1)), X_train])\n",
    "A1 = np.dot(((X_train).T),X_train)\n",
    "A2 = np.linalg.inv(A1) \n",
    "A3 = np.dot(((X_train).T),train_target)\n",
    "P = np.dot(A2,A3)\n",
    "b,a = P\n",
    "print(\"Estimated value of a: \",a)\n",
    "print(\"Estimated value of b: \",b)\n",
    "y_pred = a*test_data + b\n",
    "y_test=test_target\n",
    "\n",
    "mse = mean_squared_error(y_test, y_pred)\n",
    "r2 = r2_score(y_test, y_pred)\n",
    "print(\"MSE: \", mse)\n",
    "print(\"R^2: \", r2)"
   ]
  },
  {
   "cell_type": "markdown",
   "metadata": {
    "id": "0gU73wO3lnwB"
   },
   "source": [
    "for sigma=5"
   ]
  },
  {
   "cell_type": "code",
   "execution_count": 7,
   "metadata": {
    "colab": {
     "base_uri": "https://localhost:8080/"
    },
    "id": "3WOZH-AzllyF",
    "outputId": "e4a372fc-3a4b-44d5-b724-42539c7ad1bc"
   },
   "outputs": [
    {
     "name": "stdout",
     "output_type": "stream",
     "text": [
      "Estimated value of a:  1.9921027939650005\n",
      "Estimated value of b:  3.28219366852496\n",
      "MSE:  28.27328211734519\n",
      "R^2:  0.8248292631782727\n"
     ]
    }
   ],
   "source": [
    "x = np.linspace(-10, 10, 200)\n",
    "sigma = 5\n",
    "noise = sigma * np.random.normal(0, 1, len(x))\n",
    "y = 2 * x + 3 + noise\n",
    "data = pd.DataFrame({'x': x, 'y': y})\n",
    "\n",
    "train_data, test_data, train_target, test_target = train_test_split(data['x'], data['y'], train_size=100, test_size=100)\n",
    "X_train = train_data.values.reshape(-1, 1)\n",
    "X_train = np.hstack([np.ones((100, 1)), X_train])\n",
    "A1 = np.dot(((X_train).T),X_train)\n",
    "A2 = np.linalg.inv(A1) \n",
    "A3 = np.dot(((X_train).T),train_target)\n",
    "P = np.dot(A2,A3)\n",
    "b,a = P\n",
    "print(\"Estimated value of a: \",a)\n",
    "print(\"Estimated value of b: \",b)\n",
    "y_pred = a*test_data + b\n",
    "y_test=test_target\n",
    "\n",
    "mse = mean_squared_error(y_test, y_pred)\n",
    "r2 = r2_score(y_test, y_pred)\n",
    "print(\"MSE: \", mse)\n",
    "print(\"R^2: \", r2)"
   ]
  },
  {
   "cell_type": "markdown",
   "metadata": {
    "id": "esAvmp7bmT6X"
   },
   "source": [
    "observation: As the value of sigma increases, the value of MSE also start increasing but the corresponding value of R^2 decreases. "
   ]
  },
  {
   "cell_type": "markdown",
   "metadata": {
    "id": "mYdmbv2-VgCf"
   },
   "source": [
    "Question 4"
   ]
  },
  {
   "cell_type": "code",
   "execution_count": 8,
   "metadata": {},
   "outputs": [
    {
     "name": "stdout",
     "output_type": "stream",
     "text": [
      "[array([[-10],\n",
      "       [-10]])]\n"
     ]
    },
    {
     "data": {
      "image/png": "[encoded data removed]",
      "text/plain": [
       "<Figure size 432x288 with 1 Axes>"
      ]
     },
     "metadata": {
      "needs_background": "light"
     },
     "output_type": "display_data"
    },
    {
     "name": "stdout",
     "output_type": "stream",
     "text": [
      "[array([[10],\n",
      "       [10]])]\n"
     ]
    },
    {
     "data": {
      "image/png": "[encoded data removed]",
      "text/plain": [
       "<Figure size 432x288 with 1 Axes>"
      ]
     },
     "metadata": {
      "needs_background": "light"
     },
     "output_type": "display_data"
    },
    {
     "name": "stdout",
     "output_type": "stream",
     "text": [
      "[array([[-8],\n",
      "       [ 8]])]\n"
     ]
    },
    {
     "data": {
      "image/png": "[encoded data removed]",
      "text/plain": [
       "<Figure size 432x288 with 1 Axes>"
      ]
     },
     "metadata": {
      "needs_background": "light"
     },
     "output_type": "display_data"
    },
    {
     "name": "stdout",
     "output_type": "stream",
     "text": [
      "[array([[ 8],\n",
      "       [-8]])]\n"
     ]
    },
    {
     "data": {
      "image/png": "[encoded data removed]",
      "text/plain": [
       "<Figure size 432x288 with 1 Axes>"
      ]
     },
     "metadata": {
      "needs_background": "light"
     },
     "output_type": "display_data"
    }
   ],
   "source": [
    "import numpy as np\n",
    "import matplotlib.pyplot as plt\n",
    "from mpl_toolkits.mplot3d import Axes3D\n",
    "\n",
    "a = [-10,10,-8,8]\n",
    "b = [-10,10,8,-8]\n",
    "eta = [0.02,0.025,0.01,0.005]\n",
    "\n",
    "for j in range(len(a)):\n",
    "  \n",
    "  x = np.linspace(-10, 10, 100)\n",
    "  y = 2*x+3\n",
    "  o = np.ones(x.shape).reshape(-1,1)\n",
    "  A = np.concatenate((o,x.reshape(-1,1)),axis=1)\n",
    "\n",
    "\n",
    "  P = []    # this list will contain parameter a and b pair for all iterations\n",
    "  P.append(np.array([a[j],b[j]]).reshape(-1,1))\n",
    "  print(P)\n",
    "\n",
    "  for i in range(99):       # Gradient Descent Iterations\n",
    "    temp = P[i] - (1/x.shape[0])*eta[j]*(2*np.matmul((np.matmul(A.T,A)),P[i])-2*(np.matmul(A.T,y.reshape(-1,1))))\n",
    "    #print(temp.shape)\n",
    "    P.append(temp)\n",
    "\n",
    "  # extracting a and b from the list for trajectory plot        - I think there must be better way to do it\n",
    "  a_traj = np.zeros(len(P))\n",
    "  b_traj =np.zeros(len(P))\n",
    "  for i in range(len(P)):\n",
    "    a_traj[i] = P[i][1]\n",
    "    b_traj[i] = P[i][0]\n",
    "\n",
    "\n",
    "\n",
    "  # Paramter for contour plot\n",
    "  a_range = np.arange(-10,10,0.1)\n",
    "  b_range = np.arange(-10,10,0.1)\n",
    "  a_range,b_range = np.meshgrid(a_range,b_range)\n",
    "\n",
    "\n",
    "  fig, ax = plt.subplots(1,1)\n",
    "\n",
    "  #Contour Plot\n",
    "  ax.contourf(a_range, b_range, E)\n",
    "\n",
    "  #trajectory path\n",
    "  ax.plot(a_traj,b_traj,color='r')\n",
    "\n",
    "  plt.xlabel(\"A\")\n",
    "  plt.ylabel(\"B\")\n",
    "  plt.show()"
   ]
  },
  {
   "cell_type": "markdown",
   "metadata": {
    "id": "J_d50O3RpEbp"
   },
   "source": [
    "Observation: the value of 'a' and 'b' converges for eta = 0.01 and 0.02. But\n",
    "for eta >= 0.03, the value of 'a' overshoots and becomes divergent. "
   ]
  }
 ],
 "metadata": {
  "colab": {
   "provenance": []
  },
  "kernelspec": {
   "display_name": "Python 3 (ipykernel)",
   "language": "python",
   "name": "python3"
  },
  "language_info": {
   "codemirror_mode": {
    "name": "ipython",
    "version": 3
   },
   "file_extension": ".py",
   "mimetype": "text/x-python",
   "name": "python",
   "nbconvert_exporter": "python",
   "pygments_lexer": "ipython3",
   "version": "3.9.12"
  }
 },
 "nbformat": 4,
 "nbformat_minor": 1
}
