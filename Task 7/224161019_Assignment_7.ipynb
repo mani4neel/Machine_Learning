{
 "cells": [
  {
   "cell_type": "markdown",
   "id": "0df205d6",
   "metadata": {},
   "source": [
    "ML Lab7 : Neelmani- 224161019"
   ]
  },
  {
   "cell_type": "markdown",
   "id": "c7910f97",
   "metadata": {},
   "source": [
    "Question 1"
   ]
  },
  {
   "cell_type": "code",
   "execution_count": 1,
   "id": "003f03b9",
   "metadata": {},
   "outputs": [],
   "source": [
    "import numpy as np\n",
    "from keras.datasets import mnist\n",
    "from sklearn.decomposition import PCA\n",
    "from sklearn.neighbors import KDTree\n",
    "\n",
    "# Load the MNIST dataset\n",
    "(X_train, y_train), (X_test, y_test) = mnist.load_data()\n",
    "\n",
    "# Vectorize the images\n",
    "X_train_vec = X_train.reshape(X_train.shape[0], -1)\n",
    "X_test_vec = X_test.reshape(X_test.shape[0], -1)\n",
    "\n",
    "# Perform PCA to reduce the dimensionality of the feature space\n",
    "pca = PCA(n_components=50)\n",
    "X_train_pca = pca.fit_transform(X_train_vec)\n",
    "X_test_pca = pca.transform(X_test_vec)"
   ]
  },
  {
   "cell_type": "code",
   "execution_count": 2,
   "id": "111bc933",
   "metadata": {},
   "outputs": [
    {
     "name": "stdout",
     "output_type": "stream",
     "text": [
      "<class 'numpy.ndarray'>\n"
     ]
    }
   ],
   "source": [
    "# Construct a KD-Tree index for efficient nearest neighbor search\n",
    "kdtree = KDTree(X_train_pca)\n",
    "\n",
    "# Define the search parameters\n",
    "k = 5 # Number of nearest neighbors to retrieve\n",
    "d = 50 # Dimensionality of the feature subspace\n",
    "\n",
    "# Generate a random query image\n",
    "query_idx = np.random.randint(X_test_pca.shape[0])\n",
    "query_img = X_test_pca[query_idx]\n",
    "\n",
    "# Search for similar images\n",
    "distances, indices = kdtree.query(query_img.reshape(1,-1), k=k)\n",
    "similar_images = X_train[indices[0]]\n"
   ]
  },
  {
   "cell_type": "code",
   "execution_count": null,
   "id": "7a23d793",
   "metadata": {},
   "outputs": [],
   "source": [
    "# Visualize the results\n",
    "import matplotlib.pyplot as plt\n",
    "\n",
    "plt.figure(figsize=(10,5))\n",
    "plt.subplot(1, k+1, 1)\n",
    "plt.imshow(X_test[query_idx], cmap='gray')\n",
    "plt.title('Query image')\n",
    "for i in range(k):\n",
    "    plt.subplot(1, k+1, i+2)\n",
    "    plt.imshow(similar_images[i].reshape(28,28), cmap='gray')\n",
    "    plt.title('Dist: {:.2f}'.format(distances[0][i]))\n",
    "plt.show()\n"
   ]
  },
  {
   "cell_type": "code",
   "execution_count": 8,
   "id": "314a0e08",
   "metadata": {},
   "outputs": [
    {
     "name": "stdout",
     "output_type": "stream",
     "text": [
      "d=10, Dmax=10, m=5: search precision=1.00\n",
      "d=10, Dmax=10, m=10: search precision=1.00\n",
      "d=10, Dmax=10, m=20: search precision=1.00\n",
      "d=10, Dmax=20, m=5: search precision=1.00\n",
      "d=10, Dmax=20, m=10: search precision=1.00\n",
      "d=10, Dmax=20, m=20: search precision=1.00\n",
      "d=10, Dmax=30, m=5: search precision=1.00\n",
      "d=10, Dmax=30, m=10: search precision=1.00\n",
      "d=10, Dmax=30, m=20: search precision=1.00\n",
      "d=20, Dmax=10, m=5: search precision=1.00\n",
      "d=20, Dmax=10, m=10: search precision=1.00\n",
      "d=20, Dmax=10, m=20: search precision=1.00\n",
      "d=20, Dmax=20, m=5: search precision=1.00\n",
      "d=20, Dmax=20, m=10: search precision=1.00\n",
      "d=20, Dmax=20, m=20: search precision=1.00\n",
      "d=20, Dmax=30, m=5: search precision=1.00\n",
      "d=20, Dmax=30, m=10: search precision=1.00\n",
      "d=20, Dmax=30, m=20: search precision=1.00\n",
      "d=30, Dmax=10, m=5: search precision=1.00\n",
      "d=30, Dmax=10, m=10: search precision=1.00\n",
      "d=30, Dmax=10, m=20: search precision=1.00\n",
      "d=30, Dmax=20, m=5: search precision=1.00\n",
      "d=30, Dmax=20, m=10: search precision=1.00\n",
      "d=30, Dmax=20, m=20: search precision=1.00\n",
      "d=30, Dmax=30, m=5: search precision=1.00\n",
      "d=30, Dmax=30, m=10: search precision=1.00\n",
      "d=30, Dmax=30, m=20: search precision=1.00\n",
      "d=40, Dmax=10, m=5: search precision=1.00\n",
      "d=40, Dmax=10, m=10: search precision=1.00\n",
      "d=40, Dmax=10, m=20: search precision=1.00\n",
      "d=40, Dmax=20, m=5: search precision=1.00\n",
      "d=40, Dmax=20, m=10: search precision=1.00\n",
      "d=40, Dmax=20, m=20: search precision=1.00\n",
      "d=40, Dmax=30, m=5: search precision=1.00\n",
      "d=40, Dmax=30, m=10: search precision=1.00\n",
      "d=40, Dmax=30, m=20: search precision=1.00\n",
      "d=50, Dmax=10, m=5: search precision=1.00\n",
      "d=50, Dmax=10, m=10: search precision=1.00\n",
      "d=50, Dmax=10, m=20: search precision=1.00\n",
      "d=50, Dmax=20, m=5: search precision=1.00\n",
      "d=50, Dmax=20, m=10: search precision=1.00\n",
      "d=50, Dmax=20, m=20: search precision=1.00\n",
      "d=50, Dmax=30, m=5: search precision=1.00\n",
      "d=50, Dmax=30, m=10: search precision=1.00\n",
      "d=50, Dmax=30, m=20: search precision=1.00\n"
     ]
    }
   ],
   "source": [
    "import numpy as np\n",
    "from keras.datasets import mnist\n",
    "from sklearn.decomposition import PCA\n",
    "from sklearn.neighbors import KDTree\n",
    "\n",
    "# Load the MNIST dataset\n",
    "(X_train, y_train), (X_test, y_test) = mnist.load_data()\n",
    "\n",
    "# Vectorize the images\n",
    "X_train_vec = X_train.reshape(X_train.shape[0], -1)\n",
    "X_test_vec = X_test.reshape(X_test.shape[0], -1)\n",
    "\n",
    "# Define the search parameters\n",
    "k = 5 # Number of nearest neighbors to retrieve\n",
    "query_idx = np.random.randint(X_test_vec.shape[0]) # Select a random query image\n",
    "\n",
    "# Evaluate search precision for different values of d, Dmax, and m\n",
    "for d in [10, 20, 30, 40, 50]:\n",
    "    # Perform PCA to reduce the dimensionality of the feature space\n",
    "    pca = PCA(n_components=d)\n",
    "    X_train_pca = pca.fit_transform(X_train_vec)\n",
    "    X_test_pca = pca.transform(X_test_vec)\n",
    "\n",
    "    for Dmax in [10, 20, 30]:\n",
    "        for m in [5, 10, 20]:\n",
    "            # Construct a KD-Tree index for efficient nearest neighbor search\n",
    "            kdtree = KDTree(X_train_pca, leaf_size=m, metric='euclidean')\n",
    "\n",
    "            # Search for similar images\n",
    "            distances, indices = kdtree.query(X_test_pca[query_idx].reshape(1,-1), k=k, breadth_first=False, return_distance=True, sort_results=True)\n",
    "\n",
    "            # Compute search precision\n",
    "            query_label = y_test[query_idx]\n",
    "            retrieved_labels = y_train[indices[0]]\n",
    "            num_matches = np.sum(query_label == retrieved_labels)\n",
    "            search_precision = num_matches / k\n",
    "\n",
    "            # Print the search precision for this configuration of d, Dmax, and m\n",
    "            print('d={}, Dmax={}, m={}: search precision={:.2f}'.format(d, Dmax, m, search_precision))\n"
   ]
  },
  {
   "cell_type": "markdown",
   "id": "5c6419ea",
   "metadata": {},
   "source": [
    "Question: 2"
   ]
  },
  {
   "cell_type": "code",
   "execution_count": 3,
   "id": "153f4b19",
   "metadata": {},
   "outputs": [
    {
     "name": "stdout",
     "output_type": "stream",
     "text": [
      "Error loading file: C:\\Users\\Asus\\Downloads\\ML\\LAB Assignment\\Assignment 7\\.ipynb_checkpoints\\224161019_Assignment_7-checkpoint.ipynb\n",
      "(165, 1024)\n",
      "1024\n",
      "(5, 1024)\n"
     ]
    },
    {
     "name": "stderr",
     "output_type": "stream",
     "text": [
      "C:\\Users\\Asus\\anaconda3\\lib\\site-packages\\numpy\\core\\fromnumeric.py:3440: RuntimeWarning: Mean of empty slice.\n",
      "  return _methods._mean(a, axis=axis, dtype=dtype,\n",
      "C:\\Users\\Asus\\anaconda3\\lib\\site-packages\\numpy\\core\\_methods.py:181: RuntimeWarning: invalid value encountered in true_divide\n",
      "  ret = um.true_divide(\n"
     ]
    },
    {
     "data": {
      "image/png": "[encoded data removed]",
      "text/plain": [
       "<Figure size 432x288 with 1 Axes>"
      ]
     },
     "metadata": {
      "needs_background": "light"
     },
     "output_type": "display_data"
    },
    {
     "data": {
      "image/png": "[encoded data removed]",
      "text/plain": [
       "<Figure size 432x288 with 1 Axes>"
      ]
     },
     "metadata": {
      "needs_background": "light"
     },
     "output_type": "display_data"
    },
    {
     "data": {
      "image/png": "[encoded data removed]",
      "text/plain": [
       "<Figure size 432x288 with 1 Axes>"
      ]
     },
     "metadata": {
      "needs_background": "light"
     },
     "output_type": "display_data"
    },
    {
     "data": {
      "image/png": "[encoded data removed]",
      "text/plain": [
       "<Figure size 432x288 with 1 Axes>"
      ]
     },
     "metadata": {
      "needs_background": "light"
     },
     "output_type": "display_data"
    },
    {
     "data": {
      "image/png": "[encoded data removed]",
      "text/plain": [
       "<Figure size 432x288 with 1 Axes>"
      ]
     },
     "metadata": {
      "needs_background": "light"
     },
     "output_type": "display_data"
    }
   ],
   "source": [
    "import os\n",
    "import numpy as np\n",
    "from PIL import Image\n",
    "import matplotlib.pyplot as plt\n",
    "\n",
    "def normalize(x):\n",
    "    \"\"\"Normalize the input vector x to have unit L2 norm.\"\"\"\n",
    "    return x / np.linalg.norm(x)\n",
    "\n",
    "def spherical_kmeans(data, k, max_iter=100):\n",
    "    \"\"\"Perform spherical k-means clustering on the input data.\"\"\"\n",
    "    # Initialize cluster centers randomly\n",
    "    centroids = np.random.randn(k, data.shape[1])\n",
    "    print(centroids.shape)\n",
    "    for i in range(k):\n",
    "        centroids[i] = normalize(centroids[i])\n",
    "\n",
    "    for _ in range(max_iter):\n",
    "        # Assign each data point to the nearest cluster center\n",
    "        distances = np.dot(data, centroids.T)\n",
    "        labels = np.argmax(distances, axis=1)\n",
    "\n",
    "        # Update cluster centers to be the mean of the assigned data points\n",
    "        for i in range(k):\n",
    "            mask = (labels == i)\n",
    "            if np.sum(mask) > 0:\n",
    "                centroids[i] = normalize(np.mean(data[mask], axis=0))\n",
    "\n",
    "    return centroids, labels\n",
    "\n",
    "# set the path to the faces dataset folder\n",
    "path = r\"C:\\Users\\Asus\\Downloads\\ML\\LAB Assignment\\Assignment 7\"\n",
    "\n",
    "data = []\n",
    "for folder in os.listdir(path):\n",
    "    folder_path = os.path.join(path, folder)\n",
    "    if os.path.isdir(folder_path):  # ignore non-directory files\n",
    "        for file in os.listdir(folder_path):\n",
    "            file_path = os.path.join(folder_path, file)\n",
    "            try:\n",
    "                img = Image.open(file_path)\n",
    "                img = img.resize((32, 32))  # resize the images to 32x32\n",
    "                img = np.array(img).flatten()  # flatten the images to 1D arrays\n",
    "                data.append(img)\n",
    "            except:\n",
    "                print(f\"Error loading file: {file_path}\")\n",
    "\n",
    "data = np.array(data)\n",
    "print(data.shape)\n",
    "print(data.shape[1])\n",
    "# Perform spherical clustering with K=5\n",
    "centroids, labels = spherical_kmeans(data, k=5)\n",
    "\n",
    "# Visualize the mean face of each cluster\n",
    "for i in range(5):\n",
    "    cluster_data = data[labels == i]\n",
    "    mean_face = np.mean(cluster_data, axis=0)\n",
    "    mean_face = mean_face.reshape((32, 32))\n",
    "    plt.imshow(mean_face.astype(np.uint8))\n",
    "    plt.show()\n"
   ]
  },
  {
   "cell_type": "code",
   "execution_count": null,
   "id": "cd7a77e6",
   "metadata": {},
   "outputs": [],
   "source": []
  }
 ],
 "metadata": {
  "kernelspec": {
   "display_name": "Python 3 (ipykernel)",
   "language": "python",
   "name": "python3"
  },
  "language_info": {
   "codemirror_mode": {
    "name": "ipython",
    "version": 3
   },
   "file_extension": ".py",
   "mimetype": "text/x-python",
   "name": "python",
   "nbconvert_exporter": "python",
   "pygments_lexer": "ipython3",
   "version": "3.9.12"
  }
 },
 "nbformat": 4,
 "nbformat_minor": 5
}
