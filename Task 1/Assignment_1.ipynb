{
  "nbformat": 4,
  "nbformat_minor": 0,
  "metadata": {
    "colab": {
      "provenance": []
    },
    "kernelspec": {
      "name": "python3",
      "display_name": "Python 3"
    },
    "language_info": {
      "name": "python"
    }
  },
  "cells": [
    {
      "cell_type": "code",
      "source": [
        "import numpy as np\n",
        "import matplotlib.pyplot as plt"
      ],
      "metadata": {
        "id": "5b_gEZmbAD6O"
      },
      "execution_count": null,
      "outputs": []
    },
    {
      "cell_type": "markdown",
      "source": [
        "# Problem 1"
      ],
      "metadata": {
        "id": "B2NLm0AB_ADU"
      }
    },
    {
      "cell_type": "markdown",
      "source": [
        "Print Hello World!"
      ],
      "metadata": {
        "id": "fPkCOG9vE-X7"
      }
    },
    {
      "cell_type": "code",
      "execution_count": null,
      "metadata": {
        "colab": {
          "base_uri": "https://localhost:8080/"
        },
        "id": "U1xyizf_-IR6",
        "outputId": "2ed1278c-d508-4eb3-e562-62986b821602"
      },
      "outputs": [
        {
          "output_type": "stream",
          "name": "stdout",
          "text": [
            "Hello World!\n"
          ]
        }
      ],
      "source": [
        "print(\"Hello World!\")"
      ]
    },
    {
      "cell_type": "markdown",
      "source": [
        "# Problem 2"
      ],
      "metadata": {
        "id": "xy4tMs6QFoDf"
      }
    },
    {
      "cell_type": "markdown",
      "source": [
        "User input two numbers a and b. Perform the following algebraic operations c = a+b, d= a-b, e= a*b, f=a/b and g=a%b and print their results"
      ],
      "metadata": {
        "id": "hkEs0H1iFGug"
      }
    },
    {
      "cell_type": "code",
      "source": [
        "a = int(input('Enter the value of a : '))\n",
        "b=int(input('Enter the value of b : '))\n",
        "c=a+b\n",
        "print(\"c =\",c)\n",
        "d=a-b\n",
        "print(\"d =\",d)\n",
        "e=a*b\n",
        "print(\"e =\",e)\n",
        "f=a/b\n",
        "print(\"f =\",f)\n",
        "g=a%b\n",
        "print(\"g =\",g)\n"
      ],
      "metadata": {
        "id": "fj2fMjRs-4PP",
        "colab": {
          "base_uri": "https://localhost:8080/"
        },
        "outputId": "ec6a3a8b-a2a4-45a9-80fe-e8819bf01b71"
      },
      "execution_count": null,
      "outputs": [
        {
          "output_type": "stream",
          "name": "stdout",
          "text": [
            "Enter the value of a : 4\n",
            "Enter the value of b : 5\n",
            "c = 9\n",
            "d = -1\n",
            "e = 20\n",
            "f = 0.8\n",
            "g = 4\n"
          ]
        }
      ]
    },
    {
      "cell_type": "markdown",
      "source": [
        "# Problem 3"
      ],
      "metadata": {
        "id": "MQivJZ0RFqhC"
      }
    },
    {
      "cell_type": "markdown",
      "source": [
        "Print the factorial of a positive number 'a' given as a user input."
      ],
      "metadata": {
        "id": "JVIr5agJFNBZ"
      }
    },
    {
      "cell_type": "code",
      "source": [
        "def factorial(a):\n",
        "  if (a==0):\n",
        "    return 1\n",
        "  else:\n",
        "    a=a*factorial(a-1)\n",
        "  return a\n",
        "\n",
        "a=int(input('Enter a : '))\n",
        "b=factorial(a)\n",
        "print(\"factorial of a is\",b)\n",
        "\n",
        "\n",
        "  "
      ],
      "metadata": {
        "colab": {
          "base_uri": "https://localhost:8080/"
        },
        "id": "0ks0ERJbClo7",
        "outputId": "c5c129e7-b4a6-4788-b34e-2f18853ed04c"
      },
      "execution_count": null,
      "outputs": [
        {
          "output_type": "stream",
          "name": "stdout",
          "text": [
            "Enter a : 6\n",
            "factorial of a is 720\n"
          ]
        }
      ]
    },
    {
      "cell_type": "markdown",
      "source": [
        "# Problem 4"
      ],
      "metadata": {
        "id": "fgG18OCaPvk3"
      }
    },
    {
      "cell_type": "markdown",
      "source": [
        "Write a function to print all prime numbers in an interval [a,b]. Interval is to be obtained as a user input."
      ],
      "metadata": {
        "id": "LhVr80cDFWOj"
      }
    },
    {
      "cell_type": "code",
      "source": [
        "def prime(a,b):\n",
        "  '''\n",
        "  Returns primes in the interval [a,b] in a list\n",
        "  '''\n",
        "  L=[]\n",
        "  for num in range(a,b+1):\n",
        "    c=0\n",
        "    for i in range(1,int(np.sqrt(b))+1):\n",
        "      if (num % i==0):\n",
        "        c=c+1\n",
        "    if (c<=1):\n",
        "       L.append(num)\n",
        "  return L\n",
        "\n",
        "a=int(input(\"Enter a : \"))\n",
        "b=int(input(\"Enter b : \"))\n",
        "l1=prime(a,b)\n",
        "print(l1)"
      ],
      "metadata": {
        "id": "jkvPVlylEAhV",
        "colab": {
          "base_uri": "https://localhost:8080/"
        },
        "outputId": "211024ad-4a7c-48f1-f818-f75ca6f462ec"
      },
      "execution_count": null,
      "outputs": [
        {
          "output_type": "stream",
          "name": "stdout",
          "text": [
            "Enter a : 100\n",
            "Enter b : 1000\n",
            "[101, 103, 107, 109, 113, 127, 131, 137, 139, 149, 151, 157, 163, 167, 173, 179, 181, 191, 193, 197, 199, 211, 223, 227, 229, 233, 239, 241, 251, 257, 263, 269, 271, 277, 281, 283, 293, 307, 311, 313, 317, 331, 337, 347, 349, 353, 359, 367, 373, 379, 383, 389, 397, 401, 409, 419, 421, 431, 433, 439, 443, 449, 457, 461, 463, 467, 479, 487, 491, 499, 503, 509, 521, 523, 541, 547, 557, 563, 569, 571, 577, 587, 593, 599, 601, 607, 613, 617, 619, 631, 641, 643, 647, 653, 659, 661, 673, 677, 683, 691, 701, 709, 719, 727, 733, 739, 743, 751, 757, 761, 769, 773, 787, 797, 809, 811, 821, 823, 827, 829, 839, 853, 857, 859, 863, 877, 881, 883, 887, 907, 911, 919, 929, 937, 941, 947, 953, 967, 971, 977, 983, 991, 997]\n"
          ]
        }
      ]
    },
    {
      "cell_type": "markdown",
      "source": [
        "# Problem 5"
      ],
      "metadata": {
        "id": "NN-XFdOqPzR7"
      }
    },
    {
      "cell_type": "markdown",
      "source": [
        "User input two numbers a and b. Print their lowest common multiple(LCM)."
      ],
      "metadata": {
        "id": "YytyYMrmFb0-"
      }
    },
    {
      "cell_type": "code",
      "source": [
        "a=int(input('Enter a : '))\n",
        "b=int(input('Enter b : '))\n",
        "gcd=1\n",
        "for i in range(2,min(abs(a),abs(b))+1):\n",
        "  if (a%i==0) and (b%i==0):\n",
        "    gcd=i\n",
        "lcm=int(a*b/gcd)\n",
        "print(\"lcm :\",lcm)"
      ],
      "metadata": {
        "id": "g4twmhmFP1wl",
        "colab": {
          "base_uri": "https://localhost:8080/"
        },
        "outputId": "e1b847d1-05a8-48ce-a5ce-52fa05dc881d"
      },
      "execution_count": null,
      "outputs": [
        {
          "output_type": "stream",
          "name": "stdout",
          "text": [
            "Enter a : 4\n",
            "Enter b : 6\n",
            "lcm : 12\n"
          ]
        }
      ]
    },
    {
      "cell_type": "markdown",
      "source": [
        "# Problem 6"
      ],
      "metadata": {
        "id": "H15bDhd7Tb8R"
      }
    },
    {
      "cell_type": "markdown",
      "source": [
        "Create a list of length n = 15. Sort in descending order andprint the sorted list as well as the sorted indices. Use bubble sortalgorithm."
      ],
      "metadata": {
        "id": "oEoZz5DDFihv"
      }
    },
    {
      "cell_type": "code",
      "source": [
        "arr=[64, 34, 25, 12, 22, 11, 90,4,35,52,97,57,73,65,61]\n",
        "n = len(arr)\n",
        "L=[i for i in range(n)]\n",
        "\n",
        "# Using bubble sort to implement the sorting\n",
        "for i in range(n-1):\n",
        "    for j in range(0, n-i-1):\n",
        "        if arr[j] < arr[j + 1]:\n",
        "            arr[j], arr[j + 1] = arr[j + 1], arr[j]\n",
        "            L[j],L[j+1] = L[j+1],L[j]\n",
        "print(L)\n",
        "print(arr)\n",
        " \n",
        " "
      ],
      "metadata": {
        "colab": {
          "base_uri": "https://localhost:8080/"
        },
        "id": "nZ4_qaBgxbLq",
        "outputId": "10f80971-daca-4099-a4d0-f2a08ff0d776"
      },
      "execution_count": null,
      "outputs": [
        {
          "output_type": "stream",
          "name": "stdout",
          "text": [
            "[10, 6, 12, 13, 0, 14, 11, 9, 8, 1, 2, 4, 3, 5, 7]\n",
            "[97, 90, 73, 65, 64, 61, 57, 52, 35, 34, 25, 22, 12, 11, 4]\n"
          ]
        }
      ]
    },
    {
      "cell_type": "markdown",
      "source": [
        "# Problem 7"
      ],
      "metadata": {
        "id": "sEb_fXZnr4rr"
      }
    },
    {
      "cell_type": "markdown",
      "source": [
        "Repeat the previous program for sorting in ascending order. Use numpy array instead of list."
      ],
      "metadata": {
        "id": "v2iyjTC8FmFY"
      }
    },
    {
      "cell_type": "code",
      "source": [
        "arr=np.array([64,34,25,12,22,11,90,4,35,52,97,57,73,65,61])\n",
        "print('Original Array :', arr)\n",
        "n = len(arr)\n",
        "L=np.array(list(range(len(arr))))\n",
        "for i in range(n-1):\n",
        "    for j in range(0, n-i-1):\n",
        "        if arr[j] > arr[j + 1]:\n",
        "            arr[j], arr[j + 1] = arr[j + 1], arr[j]\n",
        "            L[j],L[j+1] = L[j+1],L[j]\n",
        "print(\"Sorted Array :\",arr)\n",
        "print('Sorted indices :',L)\n",
        " \n",
        " "
      ],
      "metadata": {
        "colab": {
          "base_uri": "https://localhost:8080/"
        },
        "id": "GPrW_L9vx_mj",
        "outputId": "30ec1b7a-5c87-4b03-cc2e-85bf15562908"
      },
      "execution_count": null,
      "outputs": [
        {
          "output_type": "stream",
          "name": "stdout",
          "text": [
            "Original Array : [64 34 25 12 22 11 90  4 35 52 97 57 73 65 61]\n",
            "Sorted Array : [ 4 11 12 22 25 34 35 52 57 61 64 65 73 90 97]\n",
            "Sorted indices : [ 7  5  3  4  2  1  8  9 11 14  0 13 12  6 10]\n"
          ]
        }
      ]
    },
    {
      "cell_type": "markdown",
      "source": [
        "# Problem 8"
      ],
      "metadata": {
        "id": "lPZEzLvrPDwU"
      }
    },
    {
      "cell_type": "markdown",
      "source": [
        "Print a matrix **M** ∈ **R^{mxn}** having random values in the given range [ -2, 5 ]. m and nare to be given as a userinput."
      ],
      "metadata": {
        "id": "GaxkB48HaYRt"
      }
    },
    {
      "cell_type": "code",
      "source": [
        "m=int(input('Enter value of m : '))\n",
        "n=int(input('Enter value of n : '))\n",
        "mat=np.random.randint(-2,5 ,size=(m,n))\n",
        "print(mat)"
      ],
      "metadata": {
        "colab": {
          "base_uri": "https://localhost:8080/"
        },
        "id": "G2KXA1DQOXcz",
        "outputId": "5d500f76-eaa0-42d7-e054-7b53ff4d8322"
      },
      "execution_count": null,
      "outputs": [
        {
          "output_type": "stream",
          "name": "stdout",
          "text": [
            "Enter value of m : 4\n",
            "Enter value of n : 4\n",
            "[[ 1  3 -1 -1]\n",
            " [ 0  1  0  2]\n",
            " [ 1  3  1  2]\n",
            " [ 3  0  4  2]]\n"
          ]
        }
      ]
    },
    {
      "cell_type": "markdown",
      "source": [
        "# Problem 9"
      ],
      "metadata": {
        "id": "mI4QMxSxPjfO"
      }
    },
    {
      "cell_type": "markdown",
      "source": [
        "Program to multiply two random matrices **M1** and **M2**."
      ],
      "metadata": {
        "id": "J6vNOaUga9le"
      }
    },
    {
      "cell_type": "code",
      "source": [
        "m = int(input(\"Enter number of rows of matrix 1 : \"))\n",
        "n = int(input(\"Enter number of columns of matrix 1 : \"))\n",
        "p = int(input(\"Enter number of columns of matrix 2 : \"))\n",
        "\n",
        "M1=np.random.randint(0,10,size=(m,n))\n",
        "M2=np.random.randint(0,10,size=(n,p))\n",
        "\n",
        "print(\"Matrix 1: \")\n",
        "print(M1)\n",
        "\n",
        "print(\"Matrix 2: \")\n",
        "print(M2)\n",
        "\n",
        "def multiply_mat(M,N):\n",
        "  m,n=M.shape\n",
        "  q,p=N.shape\n",
        "  if (n==q):\n",
        "    A=[]\n",
        "    for i in range(m):\n",
        "      L=[]\n",
        "      for j in range(p):\n",
        "        term=0\n",
        "        for k in range(n):\n",
        "          term+=M[i][k]*N[k][j]\n",
        "        L.append(term)\n",
        "      A.append(L)\n",
        "        \n",
        "    return np.array(A)\n",
        "  else:\n",
        "    print(f\"Number of columns of {M} is not same as number of rows of {N}.\")\n",
        "\n",
        "\n",
        "print(\"Product Matrix : \")\n",
        "print(multiply_mat(M1,M2))\n"
      ],
      "metadata": {
        "colab": {
          "base_uri": "https://localhost:8080/"
        },
        "id": "37btipG6a810",
        "outputId": "95bfba7f-0649-4f70-864f-98e2d0b4bd2c"
      },
      "execution_count": null,
      "outputs": [
        {
          "output_type": "stream",
          "name": "stdout",
          "text": [
            "Enter number of rows of matrix 1 : 4\n",
            "Enter number of columns of matrix 1 : 5\n",
            "Enter number of columns of matrix 2 : 4\n",
            "Matrix 1: \n",
            "[[6 5 5 5 3]\n",
            " [3 9 7 8 0]\n",
            " [1 1 8 4 9]\n",
            " [8 6 2 7 2]]\n",
            "Matrix 2: \n",
            "[[9 4 8 4]\n",
            " [0 3 1 9]\n",
            " [3 3 7 2]\n",
            " [8 9 1 4]\n",
            " [2 0 3 8]]\n",
            "Product Matrix : \n",
            "[[115  99 102 123]\n",
            " [112 132  90 139]\n",
            " [ 83  67  96 117]\n",
            " [138 119  97 134]]\n"
          ]
        }
      ]
    },
    {
      "cell_type": "markdown",
      "source": [
        "Mulitplication using in-built function :"
      ],
      "metadata": {
        "id": "kMb-ruVarmWy"
      }
    },
    {
      "cell_type": "code",
      "source": [
        "np.dot(M1,M2)"
      ],
      "metadata": {
        "colab": {
          "base_uri": "https://localhost:8080/"
        },
        "id": "EV981g25gfEU",
        "outputId": "c20af2d0-5d59-400f-86e8-c23029141237"
      },
      "execution_count": null,
      "outputs": [
        {
          "output_type": "execute_result",
          "data": {
            "text/plain": [
              "array([[115,  99, 102, 123],\n",
              "       [112, 132,  90, 139],\n",
              "       [ 83,  67,  96, 117],\n",
              "       [138, 119,  97, 134]])"
            ]
          },
          "metadata": {},
          "execution_count": 35
        }
      ]
    },
    {
      "cell_type": "markdown",
      "source": [
        "# Problem 10"
      ],
      "metadata": {
        "id": "VZ1dbpZpPnjm"
      }
    },
    {
      "cell_type": "markdown",
      "source": [
        "Generate 100 points in R^10"
      ],
      "metadata": {
        "id": "4vqdVkp2refy"
      }
    },
    {
      "cell_type": "code",
      "source": [
        "n=100\n",
        "x=np.random.rand(10,1)\n",
        "X=x\n",
        "for i in range(n-1):\n",
        "  x=np.random.rand(10,1)\n",
        "  X=np.append(X,x,axis=1)\n",
        "print(X.shape)"
      ],
      "metadata": {
        "colab": {
          "base_uri": "https://localhost:8080/"
        },
        "id": "bOCHQgqamOb5",
        "outputId": "ff4f28cf-d641-4790-92e6-55e3d2ca20f8"
      },
      "execution_count": null,
      "outputs": [
        {
          "output_type": "stream",
          "name": "stdout",
          "text": [
            "(10, 100)\n"
          ]
        }
      ]
    },
    {
      "cell_type": "markdown",
      "source": [
        "Saving points in a CSV file"
      ],
      "metadata": {
        "id": "Hraf2BcUrh5y"
      }
    },
    {
      "cell_type": "code",
      "source": [
        "np.savetxt(\"points.csv\", X, delimiter=\",\")"
      ],
      "metadata": {
        "id": "zxQld_CyrKw6"
      },
      "execution_count": null,
      "outputs": []
    },
    {
      "cell_type": "markdown",
      "source": [
        "# Problem 11"
      ],
      "metadata": {
        "id": "whofnOUHPpCC"
      }
    },
    {
      "cell_type": "markdown",
      "source": [
        "Read the csv file generated in the previous program to a matrix. Each column of the matrix should represent a vector"
      ],
      "metadata": {
        "id": "ZXOhBQC6FvGl"
      }
    },
    {
      "cell_type": "markdown",
      "source": [
        "Compute the following: C = (1/n) sum(i=1 to n)(xi−μ)(xi−μ)T, where xi= [xi1, ...xi10]T, i=1,...n, is a column and μ is mean of all columns."
      ],
      "metadata": {
        "id": "JeqxTWDcF30r"
      }
    },
    {
      "cell_type": "code",
      "source": [
        "points=np.loadtxt(open(\"points.csv\", \"r\"), delimiter=\",\")"
      ],
      "metadata": {
        "id": "1nZzG4upsbHB"
      },
      "execution_count": null,
      "outputs": []
    },
    {
      "cell_type": "code",
      "source": [
        "mu=points.mean(axis=1)\n",
        "print(mu)"
      ],
      "metadata": {
        "colab": {
          "base_uri": "https://localhost:8080/"
        },
        "id": "U5SW7bm2uG6c",
        "outputId": "9945f2f7-40d7-42a2-b42b-fbdb5dc77c6c"
      },
      "execution_count": null,
      "outputs": [
        {
          "output_type": "stream",
          "name": "stdout",
          "text": [
            "[0.49086397 0.49568566 0.47765271 0.49107253 0.50885275 0.49576301\n",
            " 0.51552395 0.53047877 0.54355732 0.49892269]\n"
          ]
        }
      ]
    },
    {
      "cell_type": "code",
      "source": [
        "C=np.dot(np.transpose(np.transpose(points)-mu),np.transpose(points)-mu)\n",
        "C=C/n\n",
        "print(C)"
      ],
      "metadata": {
        "colab": {
          "base_uri": "https://localhost:8080/"
        },
        "id": "ez8RX9PiDhye",
        "outputId": "894ed70d-753a-4b2f-a52c-35407a47ba38"
      },
      "execution_count": null,
      "outputs": [
        {
          "output_type": "stream",
          "name": "stdout",
          "text": [
            "[[ 0.0840302   0.00409182  0.00094989  0.01050741  0.00625507  0.01028608\n",
            "  -0.00252204  0.00459986  0.00543134  0.01255288]\n",
            " [ 0.00409182  0.08574133  0.01020392  0.00637311 -0.00690413  0.0058458\n",
            "   0.00668831  0.00572367 -0.00138358  0.00291482]\n",
            " [ 0.00094989  0.01020392  0.0741894   0.000485    0.00035329 -0.00108193\n",
            "   0.00208412  0.00071269  0.0025775   0.00434539]\n",
            " [ 0.01050741  0.00637311  0.000485    0.07908086 -0.01080798 -0.00284312\n",
            "  -0.00952931 -0.01539799  0.02042417  0.00100044]\n",
            " [ 0.00625507 -0.00690413  0.00035329 -0.01080798  0.08824837  0.00527564\n",
            "   0.01199485 -0.00332234  0.01102243  0.00192499]\n",
            " [ 0.01028608  0.0058458  -0.00108193 -0.00284312  0.00527564  0.08905939\n",
            "   0.00637728  0.01051037  0.01375987 -0.00602508]\n",
            " [-0.00252204  0.00668831  0.00208412 -0.00952931  0.01199485  0.00637728\n",
            "   0.08944325  0.00692422  0.00545185  0.01678124]\n",
            " [ 0.00459986  0.00572367  0.00071269 -0.01539799 -0.00332234  0.01051037\n",
            "   0.00692422  0.07055062 -0.00436019 -0.01106196]\n",
            " [ 0.00543134 -0.00138358  0.0025775   0.02042417  0.01102243  0.01375987\n",
            "   0.00545185 -0.00436019  0.06999142 -0.00652771]\n",
            " [ 0.01255288  0.00291482  0.00434539  0.00100044  0.00192499 -0.00602508\n",
            "   0.01678124 -0.01106196 -0.00652771  0.08885438]]\n"
          ]
        }
      ]
    },
    {
      "cell_type": "markdown",
      "source": [
        "# Problem 12"
      ],
      "metadata": {
        "id": "knbAksisBDt9"
      }
    },
    {
      "cell_type": "markdown",
      "source": [
        "Define a class for a complex number a+jb. Define memeber functions to do basic operations conjugate, absolute value, addition, subtraction,  multiplication, division and angle. Define two complex numbers c1,c2 and print the results of the following operations c1+c2, c1−c2, c1∗c2, c1/c2, |c1|, |c2|, ∠c1, ∠c2."
      ],
      "metadata": {
        "id": "b3AudwUnGsg1"
      }
    },
    {
      "cell_type": "code",
      "source": [
        "from math import sqrt\n",
        "from math import atan"
      ],
      "metadata": {
        "id": "iWsMuSe_wKUR"
      },
      "execution_count": null,
      "outputs": []
    },
    {
      "cell_type": "code",
      "source": [
        "class complex():\n",
        "  def __init__(self,real_part,imaginary_part):\n",
        "    self.real=real_part\n",
        "    self.imaginary=imaginary_part\n",
        "\n",
        "  def __str__(self):\n",
        "      if self.imaginary < 0:\n",
        "        return f'{self.real}{self.imaginary}i'\n",
        "      if self.imaginary > 0:\n",
        "        return f'{self.real}+{self.imaginary}i'\n",
        "      if self.imaginary==0:\n",
        "        return f'{self.real}'\n",
        "\n",
        "  def conjugate(self):\n",
        "    '''\n",
        "    returns complex conjugate\n",
        "    '''\n",
        "    return complex(self.real,-self.imaginary)\n",
        "  \n",
        "  def absolute_value(self):\n",
        "    '''\n",
        "    returns absolute value\n",
        "    '''\n",
        "    return np.sqrt((self.real)**2+(self.imaginary)**2)\n",
        "  \n",
        "  def addition(self,number):\n",
        "    '''\n",
        "    perfor addition\n",
        "    '''\n",
        "    return complex(self.real+number.real,self.imaginary+number.imaginary)\n",
        "\n",
        "  def substraction(self,number):\n",
        "    '''\n",
        "    perform substraction\n",
        "    '''\n",
        "    return complex(self.real-number.real,self.imaginary-number.imaginary)\n",
        "\n",
        "  def multiply(self,number):\n",
        "    '''\n",
        "    perform multiplication\n",
        "    '''\n",
        "    return complex(self.real*number.real-self.imaginary*number.imaginary,self.real*number.imaginary+self.imaginary*number.real)\n",
        "\n",
        "  def divide(self,number):\n",
        "    '''\n",
        "    perform divsion\n",
        "    '''\n",
        "    result_real=(self.real*number.real+self.imaginary*number.imaginary)/((number.real)**2+(number.imaginary)**2)\n",
        "    result_imag=(self.imaginary*number.real-self.real*number.imaginary)/((number.real)**2+(number.imaginary)**2)\n",
        "    result=complex(result_real,result_imag)\n",
        "    return result\n",
        "\n",
        "  def angle(self):\n",
        "    '''\n",
        "    returns angle between -pi/2 and pi/2\n",
        "    '''\n",
        "    return np.arctan(self.imaginary/self.real)\n",
        "  "
      ],
      "metadata": {
        "id": "Ezj6dNsXBFlY"
      },
      "execution_count": null,
      "outputs": []
    },
    {
      "cell_type": "code",
      "source": [
        "c1=complex(1,2)\n",
        "c2=complex(3,4)\n",
        "\n",
        "# c1 + c2\n",
        "\n",
        "print(f'({c1})+({c2}) =',c1.addition(c2))\n",
        "\n",
        "# c1-c2\n",
        "c4=c1.substraction(complex(4,5))\n",
        "print(f'({c1})-({c2}) =',c1.substraction(c2))\n",
        "\n",
        "# c1*c2\n",
        "mult=c1.multiply(c2)\n",
        "print(f'({c1})*({c2}) =',mult)\n",
        "\n",
        "# c1/c2\n",
        "print(f'({c1})/({c2}) =',c1.divide(c2))\n",
        "\n",
        "# |c1|\n",
        "print(f'Absolute value of {c1} :',c1.absolute_value())\n",
        "# |c2|\n",
        "print(f'Absolute value of {c2} :',c2.absolute_value())\n",
        "\n",
        "# angle of c1\n",
        "print(f'Angle of {c1} :',c1.angle())\n",
        "# angle of c2\n",
        "print(f'Angle of {c2} :',c2.angle())\n"
      ],
      "metadata": {
        "id": "NW4hywQrBj2-",
        "colab": {
          "base_uri": "https://localhost:8080/"
        },
        "outputId": "9ecfaeb1-61a2-409f-fd68-f02bacfc52cf"
      },
      "execution_count": null,
      "outputs": [
        {
          "output_type": "stream",
          "name": "stdout",
          "text": [
            "(1+2i)+(3+4i) = 4+6i\n",
            "(1+2i)-(3+4i) = -2-2i\n",
            "(1+2i)*(3+4i) = -5+10i\n",
            "(1+2i)/(3+4i) = 0.44+0.08i\n",
            "Absolute value of 1+2i : 2.23606797749979\n",
            "Absolute value of 3+4i : 5.0\n",
            "Angle of 1+2i : 1.1071487177940904\n",
            "Angle of 3+4i : 0.9272952180016122\n"
          ]
        }
      ]
    },
    {
      "cell_type": "markdown",
      "source": [
        "# Problem 13"
      ],
      "metadata": {
        "id": "RISFjBR9APlt"
      }
    },
    {
      "cell_type": "markdown",
      "source": [
        "Plot the function y=3x+2 with x∈[−10,10]"
      ],
      "metadata": {
        "id": "bhr48i7LHPQQ"
      }
    },
    {
      "cell_type": "code",
      "source": [
        "x=np.linspace(-10,10,100)\n",
        "y=3*x+2\n",
        "plt.figure(figsize=(10,5))\n",
        "plt.plot(x,y)\n",
        "plt.grid(linestyle='--')\n",
        "plt.show()"
      ],
      "metadata": {
        "colab": {
          "base_uri": "https://localhost:8080/",
          "height": 320
        },
        "id": "o5j_lvsiAOcj",
        "outputId": "618fa9f5-3279-4299-a1ca-076725f502e0"
      },
      "execution_count": null,
      "outputs": [
        {
          "output_type": "display_data",
          "data": {
            "text/plain": [
              "<Figure size 720x360 with 1 Axes>"
            ],
            "image/png": "[encoded data removed]"
          },
          "metadata": {
            "needs_background": "light"
          }
        }
      ]
    },
    {
      "cell_type": "markdown",
      "source": [
        "# Problem 14"
      ],
      "metadata": {
        "id": "gP8u3agKPrZp"
      }
    },
    {
      "cell_type": "markdown",
      "source": [
        "Scatter plot 100 points within an ellipse with center (5,-5) and has major axis 2a=10 and minor axis 2b=5."
      ],
      "metadata": {
        "id": "3_IM6yFeHXo6"
      }
    },
    {
      "cell_type": "code",
      "source": [
        "a=5\n",
        "b=2.5\n",
        "mu_x=5\n",
        "mu_y=-5"
      ],
      "metadata": {
        "id": "Wv3h4O2oAW_A"
      },
      "execution_count": null,
      "outputs": []
    },
    {
      "cell_type": "markdown",
      "source": [
        "Random points inside the ellipse"
      ],
      "metadata": {
        "id": "WRWJMGQ9u2Ml"
      }
    },
    {
      "cell_type": "code",
      "source": [
        "a1=np.random.rand(100)*5\n",
        "b1=np.random.rand(100)*2.5\n",
        "t=np.random.rand(100)*(2*np.pi)\n",
        "plt.xlim([-5,12])\n",
        "plt.ylim([-10,5])\n",
        "plt.scatter(a1*np.cos(t)+mu_x,b1*np.sin(t)+mu_y)"
      ],
      "metadata": {
        "colab": {
          "base_uri": "https://localhost:8080/",
          "height": 282
        },
        "id": "BfzK1oCdqONc",
        "outputId": "ad147fbc-02b2-4a5f-94f0-4838ea2fd5bf"
      },
      "execution_count": null,
      "outputs": [
        {
          "output_type": "execute_result",
          "data": {
            "text/plain": [
              "<matplotlib.collections.PathCollection at 0x7f4f0f73ae80>"
            ]
          },
          "metadata": {},
          "execution_count": 68
        },
        {
          "output_type": "display_data",
          "data": {
            "text/plain": [
              "<Figure size 432x288 with 1 Axes>"
            ],
            "image/png": "[encoded data removed]"
          },
          "metadata": {
            "needs_background": "light"
          }
        }
      ]
    }
  ]
}