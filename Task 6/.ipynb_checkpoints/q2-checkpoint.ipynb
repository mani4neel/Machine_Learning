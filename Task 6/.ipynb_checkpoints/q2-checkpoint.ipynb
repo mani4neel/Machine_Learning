{
 "cells": [
  {
   "cell_type": "code",
   "execution_count": 1,
   "id": "8532c966",
   "metadata": {},
   "outputs": [
    {
     "name": "stdout",
     "output_type": "stream",
     "text": [
      "euclidean distance between C1 and C2: 4.47213595499958\n"
     ]
    },
    {
     "name": "stderr",
     "output_type": "stream",
     "text": [
      "C:\\Users\\Asus\\anaconda3\\lib\\site-packages\\numpy\\lib\\histograms.py:852: ComplexWarning: Casting complex values to real discards the imaginary part\n",
      "  indices = f_indices.astype(np.intp)\n",
      "C:\\Users\\Asus\\anaconda3\\lib\\site-packages\\numpy\\lib\\histograms.py:905: ComplexWarning: Casting complex values to real discards the imaginary part\n",
      "  db = np.array(np.diff(bin_edges), float)\n",
      "C:\\Users\\Asus\\anaconda3\\lib\\site-packages\\matplotlib\\transforms.py:775: ComplexWarning: Casting complex values to real discards the imaginary part\n",
      "  points = np.asarray(points, float)\n"
     ]
    },
    {
     "data": {
      "image/png": "[encoded data removed]",
      "text/plain": [
       "<Figure size 432x288 with 1 Axes>"
      ]
     },
     "metadata": {
      "needs_background": "light"
     },
     "output_type": "display_data"
    },
    {
     "name": "stdout",
     "output_type": "stream",
     "text": [
      "euclidean distance between C1 and C2: 1.9901004999748129\n"
     ]
    },
    {
     "data": {
      "image/png": "[encoded data removed]",
      "text/plain": [
       "<Figure size 432x288 with 1 Axes>"
      ]
     },
     "metadata": {
      "needs_background": "light"
     },
     "output_type": "display_data"
    },
    {
     "name": "stdout",
     "output_type": "stream",
     "text": [
      "euclidean distance between C1 and C2: 1.3416407864998738\n"
     ]
    },
    {
     "data": {
      "image/png": "[encoded data removed]",
      "text/plain": [
       "<Figure size 432x288 with 1 Axes>"
      ]
     },
     "metadata": {
      "needs_background": "light"
     },
     "output_type": "display_data"
    },
    {
     "name": "stdout",
     "output_type": "stream",
     "text": [
      "euclidean distance between C1 and C2: 0.894427190999916\n"
     ]
    },
    {
     "data": {
      "image/png": "[encoded data removed]",
      "text/plain": [
       "<Figure size 432x288 with 1 Axes>"
      ]
     },
     "metadata": {
      "needs_background": "light"
     },
     "output_type": "display_data"
    }
   ],
   "source": [
    "import numpy as np\n",
    "from scipy.spatial.distance import euclidean\n",
    "import matplotlib.pyplot as plt\n",
    "\n",
    "def generate_data(n, d, r, C1, C2):\n",
    "    S1 = np.zeros((n, d))\n",
    "    S2 = np.zeros((n, d))\n",
    "    for i in range(n):\n",
    "        u = np.random.normal(0, 1, d)\n",
    "        u /= euclidean(u, np.zeros(d))\n",
    "        S1[i] = C1 + r * u\n",
    "        S2[i] = C2 + r * u\n",
    "    return S1, S2\n",
    "\n",
    "def compute_centroids_and_covariances(S1, S2):\n",
    "    m1 = np.mean(S1, axis=0)\n",
    "    m2 = np.mean(S2, axis=0)\n",
    "    C1 = np.cov(S1.T)\n",
    "    C2 = np.cov(S2.T)\n",
    "    return m1, m2, C1, C2\n",
    "\n",
    "def compute_optimal_direction_vector(m1, m2, C1, C2):\n",
    "    Sw = C1 + C2\n",
    "    Sb = np.outer(m2 - m1, m2 - m1)\n",
    "    eigenvalues, eigenvectors = np.linalg.eig(np.linalg.inv(Sw).dot(Sb))\n",
    "    idx = np.argsort(eigenvalues)[::-1]\n",
    "    eigenvalues = eigenvalues[idx]\n",
    "    eigenvectors = eigenvectors[:, idx]\n",
    "    w = eigenvectors[:, 0]\n",
    "    w /= np.linalg.norm(w)\n",
    "    return w\n",
    "\n",
    "def project_data(S1, S2, w):\n",
    "    zS1 = S1.dot(w)\n",
    "    zS2 = S2.dot(w)\n",
    "    return zS1, zS2\n",
    "\n",
    "def plot_histograms(zS1, zS2, title):\n",
    "    plt.hist(zS1, bins=50, density=True, alpha=0.5, color='red')\n",
    "    plt.hist(zS2, bins=50, density=True, alpha=0.5, color='blue')\n",
    "    plt.title(title)\n",
    "    plt.show()\n",
    "\n",
    "# Case 1: || C1 - C2||2 > 2r\n",
    "n = 1000\n",
    "d = 20\n",
    "r = 1\n",
    "C1 = np.zeros(d)\n",
    "C2 = np.ones(d) \n",
    "print(f\"euclidean distance between C1 and C2: {euclidean(C1,C2)}\")\n",
    "S1, S2 = generate_data(n, d, r, C1, C2)\n",
    "m1, m2, C1, C2 = compute_centroids_and_covariances(S1, S2)\n",
    "w = compute_optimal_direction_vector(m1, m2, C1, C2)\n",
    "zS1, zS2 = project_data(S1, S2, w)\n",
    "plot_histograms(zS1, zS2, \"Case 1\")\n",
    "\n",
    "\n",
    "# Case 2: || C1 - C2||2 = 2r - ε\n",
    "n = 1000\n",
    "d = 20\n",
    "r = 1\n",
    "C1 = np.zeros(d)\n",
    "C2 = np.ones(d) * 0.445\n",
    "print(f\"euclidean distance between C1 and C2: {euclidean(C1,C2)}\")\n",
    "S1, S2 = generate_data(n, d, r, C1, C2)\n",
    "m1, m2, C1, C2 = compute_centroids_and_covariances(S1, S2)\n",
    "w = compute_optimal_direction_vector(m1, m2, C1, C2)\n",
    "zS1, zS2 = project_data(S1, S2, w)\n",
    "plot_histograms(zS1, zS2, \"Case 2\")\n",
    "\n",
    "\n",
    "# Case 3: || C1 - C2||2 = 2r - ε\n",
    "n = 1000\n",
    "d = 20\n",
    "r = 1\n",
    "C1 = np.zeros(d)\n",
    "C2 = np.ones(d) * 0.3\n",
    "print(f\"euclidean distance between C1 and C2: {euclidean(C1,C2)}\")\n",
    "S1, S2 = generate_data(n, d, r, C1, C2)\n",
    "m1, m2, C1, C2 = compute_centroids_and_covariances(S1, S2)\n",
    "w = compute_optimal_direction_vector(m1, m2, C1, C2)\n",
    "zS1, zS2 = project_data(S1, S2, w)\n",
    "plot_histograms(zS1, zS2, \"Case 3\")\n",
    "\n",
    "\n",
    "# Case 4: || C1 - C2||2 < r\n",
    "n = 1000\n",
    "d = 20\n",
    "r = 1\n",
    "C1 = np.zeros(d)\n",
    "C2 = np.ones(d) * 0.2\n",
    "print(f\"euclidean distance between C1 and C2: {euclidean(C1,C2)}\")\n",
    "S1, S2 = generate_data(n, d, r, C1, C2)\n",
    "m1, m2, C1, C2 = compute_centroids_and_covariances(S1, S2)\n",
    "w = compute_optimal_direction_vector(m1, m2, C1, C2)\n",
    "zS1, zS2 = project_data(S1, S2, w)\n",
    "plot_histograms(zS1, zS2, \"Case 4\")\n"
   ]
  },
  {
   "cell_type": "code",
   "execution_count": null,
   "id": "21a4e6e7",
   "metadata": {},
   "outputs": [],
   "source": []
  }
 ],
 "metadata": {
  "kernelspec": {
   "display_name": "Python 3 (ipykernel)",
   "language": "python",
   "name": "python3"
  },
  "language_info": {
   "codemirror_mode": {
    "name": "ipython",
    "version": 3
   },
   "file_extension": ".py",
   "mimetype": "text/x-python",
   "name": "python",
   "nbconvert_exporter": "python",
   "pygments_lexer": "ipython3",
   "version": "3.9.12"
  }
 },
 "nbformat": 4,
 "nbformat_minor": 5
}
